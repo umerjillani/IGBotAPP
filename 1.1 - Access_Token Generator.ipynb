{
 "cells": [
  {
   "cell_type": "code",
   "execution_count": 2,
   "metadata": {},
   "outputs": [
    {
     "name": "stdout",
     "output_type": "stream",
     "text": [
      "Click the following URL to authorize:\n",
      "\n",
      "https://api.instagram.com/oauth/authorize?client_id=1320285792590166&redirect_uri=https://9fba-111-68-96-40.ngrok-free.app/&scope=instagram_business_basic,instagram_business_manage_messages,instagram_business_content_publish,instagram_business_manage_insights,instagram_business_manage_comments&response_type=code\n"
     ]
    }
   ],
   "source": [
    "INSTAGRAM_APP_ID = \"1320285792590166\"\n",
    "REDIRECT_URI = \"https://9fba-111-68-96-40.ngrok-free.app/\"  # Must match the redirect URL set in Meta App\n",
    "SCOPE = \",\".join([\n",
    "    \"instagram_business_basic\",\n",
    "    \"instagram_business_manage_messages\",\n",
    "    \"instagram_business_content_publish\",\n",
    "    \"instagram_business_manage_insights\",\n",
    "    \"instagram_business_manage_comments\"\n",
    "])  # Permissions your app requires\n",
    "\n",
    "auth_url = (\n",
    "    f\"https://api.instagram.com/oauth/authorize\"\n",
    "    f\"?client_id={INSTAGRAM_APP_ID}\"\n",
    "    f\"&redirect_uri={REDIRECT_URI}\"\n",
    "    f\"&scope={SCOPE}\"\n",
    "    f\"&response_type=code\"\n",
    ")\n",
    "\n",
    "print(\"Click the following URL to authorize:\\n\")\n",
    "print(auth_url)\n"
   ]
  },
  {
   "cell_type": "code",
   "execution_count": 3,
   "metadata": {},
   "outputs": [
    {
     "name": "stdout",
     "output_type": "stream",
     "text": [
      "Access Token Response: {'access_token': 'IGAASwyv2rWVZABZAFB5TTVFTUdmV2pzcEVHUEk2NWNLYlVXWmFkcWZAwU19Vd1c0LWwyaVlUdjlrY1FxSTNQMFc2VFRGa1ZAyU011RUZA1MmdKcks5ZA2ZAXbmE5U0tyT18wUGpQZA05LSFZAITDlzazJ2ek9IbU5TLWp1N0phMFNydmJFRnNxTGVFMndtNEd3', 'user_id': 8930716937057580, 'permissions': ['instagram_business_basic', 'instagram_business_manage_messages', 'instagram_business_content_publish', 'instagram_business_manage_insights', 'instagram_business_manage_comments']}\n"
     ]
    }
   ],
   "source": [
    "import requests\n",
    "\n",
    "# Instagram API Credentials\n",
    "INSTAGRAM_APP_ID = \"1320285792590166\"\n",
    "INSTAGRAM_APP_SECRET = \"d1527134d5be8c34fecab613d1e1484b\"\n",
    "REDIRECT_URI = \"https://9fba-111-68-96-40.ngrok-free.app/\"\n",
    "AUTHORIZATION_CODE = \"AQBJzca0TFwbFnx_dFXAyEi6G9bMu6bXuR_5hYo9tu7_WYABK9PU9NqJB1KtbDizM7KfuCHSG6zJ8ALChW2uTIRBwTiwVz4X9_lTHXtm48hrPyHt3oc85Vx5L6FJxIlKV1U__Kf9HFPxT36_4QHRUpw-HEui4N4OrMCbOLmLQpKOY6ESlxyN2RuiXM2UxgS4RS0mPmJ2bNUAcZV9E3s81CoNOltJdB0KfnOIxl9qPb1cGg#_\"\n",
    "\n",
    "# API Endpoint\n",
    "TOKEN_URL = \"https://api.instagram.com/oauth/access_token\"\n",
    "\n",
    "# Request Payload\n",
    "payload = {\n",
    "    \"client_id\": INSTAGRAM_APP_ID,\n",
    "    \"client_secret\": INSTAGRAM_APP_SECRET,\n",
    "    \"grant_type\": \"authorization_code\",\n",
    "    \"redirect_uri\": REDIRECT_URI,\n",
    "    \"code\": AUTHORIZATION_CODE,\n",
    "}\n",
    "\n",
    "# Request Access Token\n",
    "response = requests.post(TOKEN_URL, data=payload)\n",
    "\n",
    "# Handle Response\n",
    "if response.status_code == 200:\n",
    "    print(\"Access Token Response:\", response.json())  # Successfully received token\n",
    "else:\n",
    "    print(f\"Error {response.status_code}: {response.text}\")  # Error details\n"
   ]
  },
  {
   "cell_type": "code",
   "execution_count": 4,
   "metadata": {},
   "outputs": [
    {
     "name": "stdout",
     "output_type": "stream",
     "text": [
      "Long-Lived Access Token Response: {'access_token': 'IGAASwyv2rWVZABZAFAtSkpsRTRxWG5NMEFXV1dYSmJpNnRyLVNiV1B2bVJicG5oM2FiNkdLN1kzSTVLcTh1X05nZA3FhVktza2pKQkFXYWFmWW9zTlVVYlRMTUZAWeGNPZAmk4NGEyVUI3MjF0b1VtdGthTjBR', 'token_type': 'bearer', 'expires_in': 5184000}\n"
     ]
    }
   ],
   "source": [
    "import requests\n",
    "\n",
    "# Instagram API Credentials\n",
    "ACCESS_TOKEN = \"IGAASwyv2rWVZABZAFB5TTVFTUdmV2pzcEVHUEk2NWNLYlVXWmFkcWZAwU19Vd1c0LWwyaVlUdjlrY1FxSTNQMFc2VFRGa1ZAyU011RUZA1MmdKcks5ZA2ZAXbmE5U0tyT18wUGpQZA05LSFZAITDlzazJ2ek9IbU5TLWp1N0phMFNydmJFRnNxTGVFMndtNEd3\"\n",
    "# API Endpoint for Long-Lived Access Token\n",
    "LONG_TOKEN_URL = \"https://graph.instagram.com/access_token\"\n",
    "\n",
    "# Request Parameters\n",
    "params = {\n",
    "    \"grant_type\": \"ig_exchange_token\",\n",
    "    \"client_secret\": INSTAGRAM_APP_SECRET,\n",
    "    \"access_token\": ACCESS_TOKEN,\n",
    "}\n",
    "\n",
    "# Request Long-Lived Access Token\n",
    "response = requests.get(LONG_TOKEN_URL, params=params)\n",
    "\n",
    "# Handle Response\n",
    "if response.status_code == 200:\n",
    "    print(\"Long-Lived Access Token Response:\", response.json())  # Successfully received token\n",
    "else:\n",
    "    print(f\"Error {response.status_code}: {response.text}\")  # Error details\n"
   ]
  },
  {
   "cell_type": "code",
   "execution_count": null,
   "metadata": {},
   "outputs": [],
   "source": []
  }
 ],
 "metadata": {
  "kernelspec": {
   "display_name": "Python 3",
   "language": "python",
   "name": "python3"
  },
  "language_info": {
   "codemirror_mode": {
    "name": "ipython",
    "version": 3
   },
   "file_extension": ".py",
   "mimetype": "text/x-python",
   "name": "python",
   "nbconvert_exporter": "python",
   "pygments_lexer": "ipython3",
   "version": "3.12.0"
  }
 },
 "nbformat": 4,
 "nbformat_minor": 2
}
